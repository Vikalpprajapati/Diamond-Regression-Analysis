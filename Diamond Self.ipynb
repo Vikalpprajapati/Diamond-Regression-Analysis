{
 "cells": [
  {
   "cell_type": "markdown",
   "id": "6364d086-fa4e-4cde-8c4e-60c587217b4c",
   "metadata": {},
   "source": [
    "## Problem Statement"
   ]
  },
  {
   "cell_type": "markdown",
   "id": "852c9181-037a-4b1b-b4c1-accf4dff3ef7",
   "metadata": {},
   "source": [
    "### The Given dataset contains the prices and other attributes of diamond. There are  10 attributes included in the dataset including the target ie. Price Perform Regression Analysis to predict the price of diamond.\n"
   ]
  },
  {
   "cell_type": "markdown",
   "id": "11830a52-e7c1-4792-a466-4a76c7d9d6ff",
   "metadata": {},
   "source": [
    "### Reading the File"
   ]
  },
  {
   "cell_type": "code",
   "execution_count": 1,
   "id": "5bf6fb11-ec80-4990-8d2e-8a4a665e9610",
   "metadata": {},
   "outputs": [],
   "source": [
    "import pandas as pd"
   ]
  },
  {
   "cell_type": "code",
   "execution_count": 2,
   "id": "a902e4b6-5774-451a-8452-c27274e2a7f7",
   "metadata": {},
   "outputs": [],
   "source": [
    "df=pd.read_csv('diamonds.csv')"
   ]
  },
  {
   "cell_type": "code",
   "execution_count": 3,
   "id": "390d8691-b818-483a-8a27-47b59c5ec661",
   "metadata": {},
   "outputs": [
    {
     "data": {
      "text/html": [
       "<div>\n",
       "<style scoped>\n",
       "    .dataframe tbody tr th:only-of-type {\n",
       "        vertical-align: middle;\n",
       "    }\n",
       "\n",
       "    .dataframe tbody tr th {\n",
       "        vertical-align: top;\n",
       "    }\n",
       "\n",
       "    .dataframe thead th {\n",
       "        text-align: right;\n",
       "    }\n",
       "</style>\n",
       "<table border=\"1\" class=\"dataframe\">\n",
       "  <thead>\n",
       "    <tr style=\"text-align: right;\">\n",
       "      <th></th>\n",
       "      <th>id</th>\n",
       "      <th>carat</th>\n",
       "      <th>cut</th>\n",
       "      <th>color</th>\n",
       "      <th>clarity</th>\n",
       "      <th>depth</th>\n",
       "      <th>table</th>\n",
       "      <th>price</th>\n",
       "      <th>x</th>\n",
       "      <th>y</th>\n",
       "      <th>z</th>\n",
       "    </tr>\n",
       "  </thead>\n",
       "  <tbody>\n",
       "    <tr>\n",
       "      <th>0</th>\n",
       "      <td>1</td>\n",
       "      <td>0.23</td>\n",
       "      <td>Ideal</td>\n",
       "      <td>E</td>\n",
       "      <td>SI2</td>\n",
       "      <td>61.5</td>\n",
       "      <td>55.0</td>\n",
       "      <td>326</td>\n",
       "      <td>3.95</td>\n",
       "      <td>3.98</td>\n",
       "      <td>2.43</td>\n",
       "    </tr>\n",
       "    <tr>\n",
       "      <th>1</th>\n",
       "      <td>2</td>\n",
       "      <td>0.21</td>\n",
       "      <td>Premium</td>\n",
       "      <td>E</td>\n",
       "      <td>SI1</td>\n",
       "      <td>59.8</td>\n",
       "      <td>61.0</td>\n",
       "      <td>326</td>\n",
       "      <td>3.89</td>\n",
       "      <td>3.84</td>\n",
       "      <td>2.31</td>\n",
       "    </tr>\n",
       "    <tr>\n",
       "      <th>2</th>\n",
       "      <td>3</td>\n",
       "      <td>0.23</td>\n",
       "      <td>Good</td>\n",
       "      <td>E</td>\n",
       "      <td>VS1</td>\n",
       "      <td>56.9</td>\n",
       "      <td>65.0</td>\n",
       "      <td>327</td>\n",
       "      <td>4.05</td>\n",
       "      <td>4.07</td>\n",
       "      <td>2.31</td>\n",
       "    </tr>\n",
       "    <tr>\n",
       "      <th>3</th>\n",
       "      <td>4</td>\n",
       "      <td>0.29</td>\n",
       "      <td>Premium</td>\n",
       "      <td>I</td>\n",
       "      <td>VS2</td>\n",
       "      <td>62.4</td>\n",
       "      <td>58.0</td>\n",
       "      <td>334</td>\n",
       "      <td>4.20</td>\n",
       "      <td>4.23</td>\n",
       "      <td>2.63</td>\n",
       "    </tr>\n",
       "    <tr>\n",
       "      <th>4</th>\n",
       "      <td>5</td>\n",
       "      <td>0.31</td>\n",
       "      <td>Good</td>\n",
       "      <td>J</td>\n",
       "      <td>SI2</td>\n",
       "      <td>63.3</td>\n",
       "      <td>58.0</td>\n",
       "      <td>335</td>\n",
       "      <td>4.34</td>\n",
       "      <td>4.35</td>\n",
       "      <td>2.75</td>\n",
       "    </tr>\n",
       "  </tbody>\n",
       "</table>\n",
       "</div>"
      ],
      "text/plain": [
       "   id  carat      cut color clarity  depth  table  price     x     y     z\n",
       "0   1   0.23    Ideal     E     SI2   61.5   55.0    326  3.95  3.98  2.43\n",
       "1   2   0.21  Premium     E     SI1   59.8   61.0    326  3.89  3.84  2.31\n",
       "2   3   0.23     Good     E     VS1   56.9   65.0    327  4.05  4.07  2.31\n",
       "3   4   0.29  Premium     I     VS2   62.4   58.0    334  4.20  4.23  2.63\n",
       "4   5   0.31     Good     J     SI2   63.3   58.0    335  4.34  4.35  2.75"
      ]
     },
     "execution_count": 3,
     "metadata": {},
     "output_type": "execute_result"
    }
   ],
   "source": [
    "df.head()"
   ]
  },
  {
   "cell_type": "code",
   "execution_count": 4,
   "id": "c46a3422-f323-47d6-b9fc-c8ee6b606ffc",
   "metadata": {},
   "outputs": [
    {
     "data": {
      "text/plain": [
       "(53940, 11)"
      ]
     },
     "execution_count": 4,
     "metadata": {},
     "output_type": "execute_result"
    }
   ],
   "source": [
    "df.shape"
   ]
  },
  {
   "cell_type": "code",
   "execution_count": 5,
   "id": "fb4b30ba-eb99-4cd8-ad96-2341f109ae07",
   "metadata": {},
   "outputs": [
    {
     "name": "stdout",
     "output_type": "stream",
     "text": [
      "<class 'pandas.core.frame.DataFrame'>\n",
      "RangeIndex: 53940 entries, 0 to 53939\n",
      "Data columns (total 11 columns):\n",
      " #   Column   Non-Null Count  Dtype  \n",
      "---  ------   --------------  -----  \n",
      " 0   id       53940 non-null  int64  \n",
      " 1   carat    53940 non-null  float64\n",
      " 2   cut      53940 non-null  object \n",
      " 3   color    53940 non-null  object \n",
      " 4   clarity  53940 non-null  object \n",
      " 5   depth    53940 non-null  float64\n",
      " 6   table    53940 non-null  float64\n",
      " 7   price    53940 non-null  int64  \n",
      " 8   x        53940 non-null  float64\n",
      " 9   y        53940 non-null  float64\n",
      " 10  z        53940 non-null  float64\n",
      "dtypes: float64(6), int64(2), object(3)\n",
      "memory usage: 4.5+ MB\n"
     ]
    }
   ],
   "source": [
    "df.info()"
   ]
  },
  {
   "cell_type": "markdown",
   "id": "534e6eaa-b3df-475d-991f-33d2c589ad37",
   "metadata": {},
   "source": [
    "## Univariate Analysis"
   ]
  },
  {
   "cell_type": "code",
   "execution_count": 6,
   "id": "6166526b-61fe-4ce4-8a09-146289b30746",
   "metadata": {},
   "outputs": [],
   "source": [
    "import matplotlib.pyplot as plt\n",
    "import seaborn as sns"
   ]
  },
  {
   "cell_type": "code",
   "execution_count": 7,
   "id": "1b6d0a8e-179f-4333-97cf-6ddbedef5699",
   "metadata": {},
   "outputs": [
    {
     "data": {
      "image/png": "[encoded data removed]",
      "text/plain": [
       "<Figure size 720x720 with 9 Axes>"
      ]
     },
     "metadata": {
      "needs_background": "light"
     },
     "output_type": "display_data"
    }
   ],
   "source": [
    "df.hist(bins=50,figsize=(10,10));"
   ]
  },
  {
   "cell_type": "code",
   "execution_count": 8,
   "id": "e7126fb1-3b1c-4430-a874-4866d60e1635",
   "metadata": {},
   "outputs": [
    {
     "data": {
      "image/png": "[encoded data removed]",
      "text/plain": [
       "<Figure size 720x720 with 1 Axes>"
      ]
     },
     "metadata": {
      "needs_background": "light"
     },
     "output_type": "display_data"
    }
   ],
   "source": [
    "plt.figure(figsize=(10,10))\n",
    "sns.boxplot(data=df,orient='h')\n",
    "plt.show()"
   ]
  },
  {
   "cell_type": "markdown",
   "id": "e228a2fc-48a7-4e25-9118-1de466900dd9",
   "metadata": {},
   "source": [
    "### Bivariate Analysis"
   ]
  },
  {
   "cell_type": "code",
   "execution_count": 9,
   "id": "46dd8b24-d487-4bba-a493-731ffe9ecd27",
   "metadata": {},
   "outputs": [
    {
     "data": {
      "text/html": [
       "<div>\n",
       "<style scoped>\n",
       "    .dataframe tbody tr th:only-of-type {\n",
       "        vertical-align: middle;\n",
       "    }\n",
       "\n",
       "    .dataframe tbody tr th {\n",
       "        vertical-align: top;\n",
       "    }\n",
       "\n",
       "    .dataframe thead th {\n",
       "        text-align: right;\n",
       "    }\n",
       "</style>\n",
       "<table border=\"1\" class=\"dataframe\">\n",
       "  <thead>\n",
       "    <tr style=\"text-align: right;\">\n",
       "      <th></th>\n",
       "      <th>id</th>\n",
       "      <th>carat</th>\n",
       "      <th>depth</th>\n",
       "      <th>table</th>\n",
       "      <th>price</th>\n",
       "      <th>x</th>\n",
       "      <th>y</th>\n",
       "      <th>z</th>\n",
       "    </tr>\n",
       "  </thead>\n",
       "  <tbody>\n",
       "    <tr>\n",
       "      <th>id</th>\n",
       "      <td>1.000000</td>\n",
       "      <td>-0.377983</td>\n",
       "      <td>-0.034800</td>\n",
       "      <td>-0.100830</td>\n",
       "      <td>-0.306873</td>\n",
       "      <td>-0.405440</td>\n",
       "      <td>-0.395843</td>\n",
       "      <td>-0.399208</td>\n",
       "    </tr>\n",
       "    <tr>\n",
       "      <th>carat</th>\n",
       "      <td>-0.377983</td>\n",
       "      <td>1.000000</td>\n",
       "      <td>0.028224</td>\n",
       "      <td>0.181618</td>\n",
       "      <td>0.921591</td>\n",
       "      <td>0.975094</td>\n",
       "      <td>0.951722</td>\n",
       "      <td>0.953387</td>\n",
       "    </tr>\n",
       "    <tr>\n",
       "      <th>depth</th>\n",
       "      <td>-0.034800</td>\n",
       "      <td>0.028224</td>\n",
       "      <td>1.000000</td>\n",
       "      <td>-0.295779</td>\n",
       "      <td>-0.010647</td>\n",
       "      <td>-0.025289</td>\n",
       "      <td>-0.029341</td>\n",
       "      <td>0.094924</td>\n",
       "    </tr>\n",
       "    <tr>\n",
       "      <th>table</th>\n",
       "      <td>-0.100830</td>\n",
       "      <td>0.181618</td>\n",
       "      <td>-0.295779</td>\n",
       "      <td>1.000000</td>\n",
       "      <td>0.127134</td>\n",
       "      <td>0.195344</td>\n",
       "      <td>0.183760</td>\n",
       "      <td>0.150929</td>\n",
       "    </tr>\n",
       "    <tr>\n",
       "      <th>price</th>\n",
       "      <td>-0.306873</td>\n",
       "      <td>0.921591</td>\n",
       "      <td>-0.010647</td>\n",
       "      <td>0.127134</td>\n",
       "      <td>1.000000</td>\n",
       "      <td>0.884435</td>\n",
       "      <td>0.865421</td>\n",
       "      <td>0.861249</td>\n",
       "    </tr>\n",
       "    <tr>\n",
       "      <th>x</th>\n",
       "      <td>-0.405440</td>\n",
       "      <td>0.975094</td>\n",
       "      <td>-0.025289</td>\n",
       "      <td>0.195344</td>\n",
       "      <td>0.884435</td>\n",
       "      <td>1.000000</td>\n",
       "      <td>0.974701</td>\n",
       "      <td>0.970772</td>\n",
       "    </tr>\n",
       "    <tr>\n",
       "      <th>y</th>\n",
       "      <td>-0.395843</td>\n",
       "      <td>0.951722</td>\n",
       "      <td>-0.029341</td>\n",
       "      <td>0.183760</td>\n",
       "      <td>0.865421</td>\n",
       "      <td>0.974701</td>\n",
       "      <td>1.000000</td>\n",
       "      <td>0.952006</td>\n",
       "    </tr>\n",
       "    <tr>\n",
       "      <th>z</th>\n",
       "      <td>-0.399208</td>\n",
       "      <td>0.953387</td>\n",
       "      <td>0.094924</td>\n",
       "      <td>0.150929</td>\n",
       "      <td>0.861249</td>\n",
       "      <td>0.970772</td>\n",
       "      <td>0.952006</td>\n",
       "      <td>1.000000</td>\n",
       "    </tr>\n",
       "  </tbody>\n",
       "</table>\n",
       "</div>"
      ],
      "text/plain": [
       "             id     carat     depth     table     price         x         y  \\\n",
       "id     1.000000 -0.377983 -0.034800 -0.100830 -0.306873 -0.405440 -0.395843   \n",
       "carat -0.377983  1.000000  0.028224  0.181618  0.921591  0.975094  0.951722   \n",
       "depth -0.034800  0.028224  1.000000 -0.295779 -0.010647 -0.025289 -0.029341   \n",
       "table -0.100830  0.181618 -0.295779  1.000000  0.127134  0.195344  0.183760   \n",
       "price -0.306873  0.921591 -0.010647  0.127134  1.000000  0.884435  0.865421   \n",
       "x     -0.405440  0.975094 -0.025289  0.195344  0.884435  1.000000  0.974701   \n",
       "y     -0.395843  0.951722 -0.029341  0.183760  0.865421  0.974701  1.000000   \n",
       "z     -0.399208  0.953387  0.094924  0.150929  0.861249  0.970772  0.952006   \n",
       "\n",
       "              z  \n",
       "id    -0.399208  \n",
       "carat  0.953387  \n",
       "depth  0.094924  \n",
       "table  0.150929  \n",
       "price  0.861249  \n",
       "x      0.970772  \n",
       "y      0.952006  \n",
       "z      1.000000  "
      ]
     },
     "execution_count": 9,
     "metadata": {},
     "output_type": "execute_result"
    }
   ],
   "source": [
    "df.corr()"
   ]
  },
  {
   "cell_type": "code",
   "execution_count": 10,
   "id": "f1c17618-12b7-4c9b-9c00-14bcb6bbc270",
   "metadata": {},
   "outputs": [
    {
     "data": {
      "image/png": "[encoded data removed]",
      "text/plain": [
       "<Figure size 720x720 with 2 Axes>"
      ]
     },
     "metadata": {
      "needs_background": "light"
     },
     "output_type": "display_data"
    }
   ],
   "source": [
    "plt.figure(figsize=(10,10))\n",
    "sns.heatmap(data=df.corr(),annot=True)\n",
    "plt.show();"
   ]
  },
  {
   "cell_type": "code",
   "execution_count": 11,
   "id": "b7892f54-3e42-4b03-87c3-bb4527d35645",
   "metadata": {},
   "outputs": [
    {
     "data": {
      "text/plain": [
       "id         0\n",
       "carat      0\n",
       "cut        0\n",
       "color      0\n",
       "clarity    0\n",
       "depth      0\n",
       "table      0\n",
       "price      0\n",
       "x          0\n",
       "y          0\n",
       "z          0\n",
       "dtype: int64"
      ]
     },
     "execution_count": 11,
     "metadata": {},
     "output_type": "execute_result"
    }
   ],
   "source": [
    "df.isnull().sum()"
   ]
  },
  {
   "cell_type": "markdown",
   "id": "8666736d-5efe-4836-a58b-a7ddb3d1c0cd",
   "metadata": {},
   "source": [
    "## Handel Categorical Values"
   ]
  },
  {
   "cell_type": "code",
   "execution_count": 12,
   "id": "a3c95ab7-ff46-4c52-8792-c6030a002614",
   "metadata": {
    "tags": []
   },
   "outputs": [],
   "source": [
    "for cols in df.columns:\n",
    "    if df[cols].dtype=='object':\n",
    "        from sklearn.preprocessing import LabelEncoder\n",
    "        le=LabelEncoder()\n",
    "        df[cols]=le.fit_transform(df[cols])"
   ]
  },
  {
   "cell_type": "code",
   "execution_count": 13,
   "id": "9c7d214b-bdaa-4f89-9097-e7bacd79e4ad",
   "metadata": {},
   "outputs": [
    {
     "data": {
      "text/html": [
       "<div>\n",
       "<style scoped>\n",
       "    .dataframe tbody tr th:only-of-type {\n",
       "        vertical-align: middle;\n",
       "    }\n",
       "\n",
       "    .dataframe tbody tr th {\n",
       "        vertical-align: top;\n",
       "    }\n",
       "\n",
       "    .dataframe thead th {\n",
       "        text-align: right;\n",
       "    }\n",
       "</style>\n",
       "<table border=\"1\" class=\"dataframe\">\n",
       "  <thead>\n",
       "    <tr style=\"text-align: right;\">\n",
       "      <th></th>\n",
       "      <th>id</th>\n",
       "      <th>carat</th>\n",
       "      <th>cut</th>\n",
       "      <th>color</th>\n",
       "      <th>clarity</th>\n",
       "      <th>depth</th>\n",
       "      <th>table</th>\n",
       "      <th>price</th>\n",
       "      <th>x</th>\n",
       "      <th>y</th>\n",
       "      <th>z</th>\n",
       "    </tr>\n",
       "  </thead>\n",
       "  <tbody>\n",
       "    <tr>\n",
       "      <th>0</th>\n",
       "      <td>1</td>\n",
       "      <td>0.23</td>\n",
       "      <td>2</td>\n",
       "      <td>1</td>\n",
       "      <td>3</td>\n",
       "      <td>61.5</td>\n",
       "      <td>55.0</td>\n",
       "      <td>326</td>\n",
       "      <td>3.95</td>\n",
       "      <td>3.98</td>\n",
       "      <td>2.43</td>\n",
       "    </tr>\n",
       "    <tr>\n",
       "      <th>1</th>\n",
       "      <td>2</td>\n",
       "      <td>0.21</td>\n",
       "      <td>3</td>\n",
       "      <td>1</td>\n",
       "      <td>2</td>\n",
       "      <td>59.8</td>\n",
       "      <td>61.0</td>\n",
       "      <td>326</td>\n",
       "      <td>3.89</td>\n",
       "      <td>3.84</td>\n",
       "      <td>2.31</td>\n",
       "    </tr>\n",
       "    <tr>\n",
       "      <th>2</th>\n",
       "      <td>3</td>\n",
       "      <td>0.23</td>\n",
       "      <td>1</td>\n",
       "      <td>1</td>\n",
       "      <td>4</td>\n",
       "      <td>56.9</td>\n",
       "      <td>65.0</td>\n",
       "      <td>327</td>\n",
       "      <td>4.05</td>\n",
       "      <td>4.07</td>\n",
       "      <td>2.31</td>\n",
       "    </tr>\n",
       "    <tr>\n",
       "      <th>3</th>\n",
       "      <td>4</td>\n",
       "      <td>0.29</td>\n",
       "      <td>3</td>\n",
       "      <td>5</td>\n",
       "      <td>5</td>\n",
       "      <td>62.4</td>\n",
       "      <td>58.0</td>\n",
       "      <td>334</td>\n",
       "      <td>4.20</td>\n",
       "      <td>4.23</td>\n",
       "      <td>2.63</td>\n",
       "    </tr>\n",
       "    <tr>\n",
       "      <th>4</th>\n",
       "      <td>5</td>\n",
       "      <td>0.31</td>\n",
       "      <td>1</td>\n",
       "      <td>6</td>\n",
       "      <td>3</td>\n",
       "      <td>63.3</td>\n",
       "      <td>58.0</td>\n",
       "      <td>335</td>\n",
       "      <td>4.34</td>\n",
       "      <td>4.35</td>\n",
       "      <td>2.75</td>\n",
       "    </tr>\n",
       "  </tbody>\n",
       "</table>\n",
       "</div>"
      ],
      "text/plain": [
       "   id  carat  cut  color  clarity  depth  table  price     x     y     z\n",
       "0   1   0.23    2      1        3   61.5   55.0    326  3.95  3.98  2.43\n",
       "1   2   0.21    3      1        2   59.8   61.0    326  3.89  3.84  2.31\n",
       "2   3   0.23    1      1        4   56.9   65.0    327  4.05  4.07  2.31\n",
       "3   4   0.29    3      5        5   62.4   58.0    334  4.20  4.23  2.63\n",
       "4   5   0.31    1      6        3   63.3   58.0    335  4.34  4.35  2.75"
      ]
     },
     "execution_count": 13,
     "metadata": {},
     "output_type": "execute_result"
    }
   ],
   "source": [
    "df.head()"
   ]
  },
  {
   "cell_type": "markdown",
   "id": "47c76214-80c7-4ceb-81dc-45f93c609af8",
   "metadata": {},
   "source": [
    "## Droping the columns"
   ]
  },
  {
   "cell_type": "code",
   "execution_count": 14,
   "id": "e2d59a01-3e92-41e3-9ca4-1b280c7b0efe",
   "metadata": {},
   "outputs": [],
   "source": [
    "df=df.drop(['id'],axis=1)"
   ]
  },
  {
   "cell_type": "markdown",
   "id": "eeaac37b-2e8a-4c20-a629-3e10e1636355",
   "metadata": {},
   "source": [
    "# Data is Ready to learn from algorithm"
   ]
  },
  {
   "cell_type": "code",
   "execution_count": 15,
   "id": "7831e9e2-ccf1-4f1c-948f-e2bb6a636551",
   "metadata": {},
   "outputs": [],
   "source": [
    "X=df.drop('price',axis=1)\n",
    "y=df['price']"
   ]
  },
  {
   "cell_type": "markdown",
   "id": "786617e0-702e-43aa-a50c-786f88a4f999",
   "metadata": {},
   "source": [
    "### Data Standardization"
   ]
  },
  {
   "cell_type": "code",
   "execution_count": 16,
   "id": "98a71de6-9e5d-4c51-807b-74d40ae34943",
   "metadata": {},
   "outputs": [],
   "source": [
    "from sklearn.preprocessing import StandardScaler"
   ]
  },
  {
   "cell_type": "code",
   "execution_count": 17,
   "id": "9c4a4bdf-929d-4922-8eaf-97d2459eacd6",
   "metadata": {},
   "outputs": [],
   "source": [
    "scaler=StandardScaler()\n",
    "scaler.fit(X)\n",
    "X_scaled=scaler.transform(X)"
   ]
  },
  {
   "cell_type": "markdown",
   "id": "0ec5116b-22dc-4abb-87fd-eb2206cdd041",
   "metadata": {},
   "source": [
    "## Training Testing"
   ]
  },
  {
   "cell_type": "code",
   "execution_count": 18,
   "id": "7edc66c7-ae07-4a9b-8a17-f4d665ecfdec",
   "metadata": {},
   "outputs": [],
   "source": [
    "from sklearn.model_selection import train_test_split"
   ]
  },
  {
   "cell_type": "code",
   "execution_count": 19,
   "id": "f83ae2c3-1729-4aa2-afbb-147aa40f3c38",
   "metadata": {},
   "outputs": [],
   "source": [
    "X_train,X_test,y_train,y_test=train_test_split(X_scaled,y,test_size=0.20)"
   ]
  },
  {
   "cell_type": "code",
   "execution_count": 20,
   "id": "422976c5-02e9-4a8d-8028-f4ab2095975e",
   "metadata": {},
   "outputs": [
    {
     "name": "stdout",
     "output_type": "stream",
     "text": [
      "X_train (43152, 9)\n",
      "X_test (10788, 9)\n",
      "y_train (43152,)\n",
      "y_test (10788,)\n"
     ]
    }
   ],
   "source": [
    "print('X_train',X_train.shape)\n",
    "print('X_test',X_test.shape)\n",
    "print('y_train',y_train.shape)\n",
    "print('y_test',y_test.shape)"
   ]
  },
  {
   "cell_type": "markdown",
   "id": "b6bdde9a-f8ad-41de-b5c4-e81b32ba51d7",
   "metadata": {},
   "source": [
    "# Import The Algorithm"
   ]
  },
  {
   "cell_type": "markdown",
   "id": "b157ed33-061b-4756-96ce-830dad36106a",
   "metadata": {},
   "source": [
    "## Linear Regression"
   ]
  },
  {
   "cell_type": "code",
   "execution_count": 21,
   "id": "05d77676-2daf-417e-9171-1bbe32e17825",
   "metadata": {},
   "outputs": [],
   "source": [
    "from sklearn.linear_model import LinearRegression"
   ]
  },
  {
   "cell_type": "code",
   "execution_count": 22,
   "id": "3e64b491-dc65-47d9-9a09-3b2853894a22",
   "metadata": {},
   "outputs": [
    {
     "data": {
      "text/plain": [
       "LinearRegression()"
      ]
     },
     "execution_count": 22,
     "metadata": {},
     "output_type": "execute_result"
    }
   ],
   "source": [
    "lg=LinearRegression()\n",
    "lg"
   ]
  },
  {
   "cell_type": "code",
   "execution_count": 23,
   "id": "199fc71b-f39e-4539-b41d-81f79dceb151",
   "metadata": {},
   "outputs": [
    {
     "data": {
      "text/plain": [
       "LinearRegression()"
      ]
     },
     "execution_count": 23,
     "metadata": {},
     "output_type": "execute_result"
    }
   ],
   "source": [
    "lg.fit(X_train,y_train)"
   ]
  },
  {
   "cell_type": "code",
   "execution_count": 24,
   "id": "dc52ea62-dcd0-434c-a7e9-78639976b42d",
   "metadata": {},
   "outputs": [
    {
     "name": "stdout",
     "output_type": "stream",
     "text": [
      "Intercept: 3936.3464290583784\n",
      "Coefficient: [ 5.24179960e+03  7.44639276e+01 -4.51975438e+02  4.91986891e+02\n",
      " -2.21779816e+02 -2.08448269e+02 -1.56266815e+03  2.49699101e+02\n",
      "  4.94401218e+00]\n"
     ]
    }
   ],
   "source": [
    "print('Intercept:',lg.intercept_)\n",
    "print('Coefficient:',lg.coef_)"
   ]
  },
  {
   "cell_type": "code",
   "execution_count": 25,
   "id": "9bdf3bc9-5edd-44d2-9efc-d63e4fcbf1cb",
   "metadata": {},
   "outputs": [
    {
     "data": {
      "text/plain": [
       "array([ 1417.98310847,  5244.43765828,   612.41807258, ...,\n",
       "        3587.98402465,   698.9572978 , 10672.60939294])"
      ]
     },
     "execution_count": 25,
     "metadata": {},
     "output_type": "execute_result"
    }
   ],
   "source": [
    "pred=lg.predict(X_test)\n",
    "pred"
   ]
  },
  {
   "cell_type": "markdown",
   "id": "915c0642-dd78-461f-8d36-32b5f8d6d1f0",
   "metadata": {},
   "source": [
    "## RSquare Score"
   ]
  },
  {
   "cell_type": "code",
   "execution_count": 26,
   "id": "00017ca0-9449-4f74-a196-9425b1b6ba86",
   "metadata": {},
   "outputs": [
    {
     "name": "stdout",
     "output_type": "stream",
     "text": [
      "traninig=0.8857966816540992 testing=0.8815889065447159\n"
     ]
    }
   ],
   "source": [
    "from sklearn.metrics import r2_score\n",
    "y_test_pred=lg.predict(X_test)\n",
    "y_train_pred=lg.predict(X_train)\n",
    "a=r2_score(y_train,y_train_pred)\n",
    "b=r2_score(y_test,y_test_pred)\n",
    "print('traninig={} testing={}'.format(a,b))"
   ]
  },
  {
   "cell_type": "code",
   "execution_count": null,
   "id": "1c8855be-f53f-43e6-954a-bdc1be720755",
   "metadata": {},
   "outputs": [],
   "source": []
  },
  {
   "cell_type": "code",
   "execution_count": 27,
   "id": "46b0a31f-4c3d-4c64-a548-79d394c89e28",
   "metadata": {},
   "outputs": [],
   "source": [
    "import numpy as np\n",
    "from sklearn import metrics"
   ]
  },
  {
   "cell_type": "code",
   "execution_count": 28,
   "id": "3aa969c0-60d2-4992-ad17-c4a3aaa0f9c3",
   "metadata": {},
   "outputs": [
    {
     "name": "stdout",
     "output_type": "stream",
     "text": [
      "Mean Absolute Error: 867.298756747409\n",
      "Mean Square Error: 1914472.778078857\n"
     ]
    }
   ],
   "source": [
    "meanAbErr = metrics.mean_absolute_error(y_test, pred)\n",
    "meanSqErr = metrics.mean_squared_error(y_test,pred)\n",
    "#rootMeanSqErr = np.sqrt(mlr.mean_squared_error(y_test, y_pred_mlr))\n",
    "\n",
    "print('Mean Absolute Error:', meanAbErr)\n",
    "print('Mean Square Error:', meanSqErr)\n",
    "#print('Root Mean Square Error:', rootMeanSqErr)"
   ]
  },
  {
   "cell_type": "markdown",
   "id": "65948a1d-8ac8-4cb4-a766-695279670c81",
   "metadata": {},
   "source": [
    "## Decission Tree Regression"
   ]
  },
  {
   "cell_type": "code",
   "execution_count": 29,
   "id": "2b1d295f-ca8d-49f6-8b0b-c9d0a1be9b02",
   "metadata": {},
   "outputs": [],
   "source": [
    "from sklearn.tree import DecisionTreeRegressor"
   ]
  },
  {
   "cell_type": "code",
   "execution_count": 30,
   "id": "adb1c566-977c-4fa2-9d82-e3b65ad51321",
   "metadata": {},
   "outputs": [
    {
     "data": {
      "text/plain": [
       "DecisionTreeRegressor(max_depth=8)"
      ]
     },
     "execution_count": 30,
     "metadata": {},
     "output_type": "execute_result"
    }
   ],
   "source": [
    "dtr=DecisionTreeRegressor(max_depth=8,criterion='squared_error')\n",
    "dtr"
   ]
  },
  {
   "cell_type": "code",
   "execution_count": 31,
   "id": "6d74d5af-2545-47a6-ab26-774b91d0f958",
   "metadata": {},
   "outputs": [
    {
     "data": {
      "text/plain": [
       "DecisionTreeRegressor(max_depth=8)"
      ]
     },
     "execution_count": 31,
     "metadata": {},
     "output_type": "execute_result"
    }
   ],
   "source": [
    "dtr.fit(X_train,y_train)"
   ]
  },
  {
   "cell_type": "code",
   "execution_count": 32,
   "id": "3f6858ea-bb32-44be-8856-528464311689",
   "metadata": {},
   "outputs": [
    {
     "name": "stdout",
     "output_type": "stream",
     "text": [
      "Decision tree training R2 Score 0.9696789620481524\n"
     ]
    }
   ],
   "source": [
    "y_pred_train=dtr.predict(X_train)\n",
    "print(\"Decision tree training R2 Score\",metrics.r2_score(y_train,y_pred_train))"
   ]
  },
  {
   "cell_type": "code",
   "execution_count": 33,
   "id": "431b7a5e-5e19-4cd3-8b94-b608d225b905",
   "metadata": {},
   "outputs": [],
   "source": [
    "y_pred_test=dtr.predict(X_test)\n"
   ]
  },
  {
   "cell_type": "markdown",
   "id": "6e780092-08c8-4d6c-a83e-9e6dc77121f3",
   "metadata": {},
   "source": [
    "# Score"
   ]
  },
  {
   "cell_type": "code",
   "execution_count": 34,
   "id": "0965dd70-d129-4573-aca1-cce90698ba0b",
   "metadata": {},
   "outputs": [
    {
     "data": {
      "text/plain": [
       "0.9696789620481524"
      ]
     },
     "execution_count": 34,
     "metadata": {},
     "output_type": "execute_result"
    }
   ],
   "source": [
    "dtr.score(X_train,y_train)"
   ]
  },
  {
   "cell_type": "code",
   "execution_count": 35,
   "id": "f3828bf1-f7af-4343-840e-a912fd17e125",
   "metadata": {},
   "outputs": [
    {
     "data": {
      "text/plain": [
       "0.9667535532090902"
      ]
     },
     "execution_count": 35,
     "metadata": {},
     "output_type": "execute_result"
    }
   ],
   "source": [
    "dtr.score(X_test,y_test)"
   ]
  },
  {
   "cell_type": "code",
   "execution_count": 36,
   "id": "3a8b713e-0ec5-4d33-8d32-929d616e0714",
   "metadata": {},
   "outputs": [
    {
     "name": "stdout",
     "output_type": "stream",
     "text": [
      "R Square 0.9667535532090902\n",
      "Mean Absolute Error: 410.25611238520514\n",
      "Mean Square Error: 537529.1747734786\n",
      "Root Mean Square 733.1638116911381\n"
     ]
    }
   ],
   "source": [
    "import math\n",
    "R_score= metrics.r2_score(y_test,y_pred_test)\n",
    "MSE = metrics.mean_squared_error(y_test,y_pred_test)\n",
    "MAE = metrics.mean_absolute_error(y_test,y_pred_test)\n",
    "RMSE= math.sqrt(metrics.mean_squared_error(y_test,y_pred_test))\n",
    "print('R Square',R_score)\n",
    "print('Mean Absolute Error:', MAE)\n",
    "print('Mean Square Error:', MSE)\n",
    "print('Root Mean Square',RMSE)"
   ]
  },
  {
   "cell_type": "markdown",
   "id": "739642ee-ed08-4a90-a7b1-e2a71d605c70",
   "metadata": {},
   "source": [
    "## Random Forest Regressor"
   ]
  },
  {
   "cell_type": "code",
   "execution_count": 37,
   "id": "dc64f0d4-06b5-465c-bb5f-87fe02270012",
   "metadata": {},
   "outputs": [],
   "source": [
    "from sklearn.ensemble import RandomForestRegressor"
   ]
  },
  {
   "cell_type": "code",
   "execution_count": 38,
   "id": "30bc4979-a9ed-4a5e-b592-c6225d374d57",
   "metadata": {},
   "outputs": [],
   "source": [
    "rfr=RandomForestRegressor(n_estimators=100,max_depth=8,n_jobs=-1)"
   ]
  },
  {
   "cell_type": "code",
   "execution_count": 39,
   "id": "e1bd26b6-ec25-4c98-ab3d-6056dbda7eb1",
   "metadata": {},
   "outputs": [
    {
     "data": {
      "text/plain": [
       "RandomForestRegressor(max_depth=8, n_jobs=-1)"
      ]
     },
     "execution_count": 39,
     "metadata": {},
     "output_type": "execute_result"
    }
   ],
   "source": [
    "rfr.fit(X_train,y_train)"
   ]
  },
  {
   "cell_type": "code",
   "execution_count": 40,
   "id": "3fa9260e-ecea-46e1-b8bd-bb88e09b9df5",
   "metadata": {},
   "outputs": [
    {
     "name": "stdout",
     "output_type": "stream",
     "text": [
      "Random forest Regressor training R2 Score 0.9753271180956935\n"
     ]
    }
   ],
   "source": [
    "y_pred_tr = rfr.predict(X_train)\n",
    "print(\"Random forest Regressor training R2 Score\",metrics.r2_score(y_train,y_pred_tr))"
   ]
  },
  {
   "cell_type": "code",
   "execution_count": 41,
   "id": "36429119-0d5c-4033-b4e0-3487f04b3e62",
   "metadata": {},
   "outputs": [],
   "source": [
    "y_pred_test_rfr=rfr.predict(X_test)"
   ]
  },
  {
   "cell_type": "code",
   "execution_count": 42,
   "id": "7076e048-4a19-414e-b50b-4e2a944ee04c",
   "metadata": {},
   "outputs": [
    {
     "name": "stdout",
     "output_type": "stream",
     "text": [
      "R Square 0.972840592688857\n",
      "Mean Absolute Error: 365.57775356661733\n",
      "Mean Square Error: 439113.806389892\n",
      "Root Mean Square 662.6566278170709\n"
     ]
    }
   ],
   "source": [
    "R_score= metrics.r2_score(y_test,y_pred_test_rfr)\n",
    "MSE = metrics.mean_squared_error(y_test,y_pred_test_rfr)\n",
    "MAE = metrics.mean_absolute_error(y_test,y_pred_test_rfr)\n",
    "RMSE= math.sqrt(metrics.mean_squared_error(y_test,y_pred_test_rfr))\n",
    "print('R Square',R_score)\n",
    "print('Mean Absolute Error:', MAE)\n",
    "print('Mean Square Error:', MSE)\n",
    "print('Root Mean Square',RMSE)"
   ]
  },
  {
   "cell_type": "markdown",
   "id": "cf2a7157-58c9-4b4c-97bc-7ecc50be42e2",
   "metadata": {},
   "source": [
    "## K-Neighboors Regressor Analysis"
   ]
  },
  {
   "cell_type": "code",
   "execution_count": 43,
   "id": "692ace44-6128-4e76-8939-8980eeebf83b",
   "metadata": {},
   "outputs": [],
   "source": [
    "from sklearn.neighbors import KNeighborsRegressor"
   ]
  },
  {
   "cell_type": "code",
   "execution_count": 44,
   "id": "15e6a445-be91-4256-9f24-9f15f5e34258",
   "metadata": {},
   "outputs": [
    {
     "data": {
      "text/plain": [
       "KNeighborsRegressor(n_jobs=-1, n_neighbors=100)"
      ]
     },
     "execution_count": 44,
     "metadata": {},
     "output_type": "execute_result"
    }
   ],
   "source": [
    "nigh=KNeighborsRegressor(n_neighbors=100,n_jobs=-1)\n",
    "nigh.fit(X_train,y_train)"
   ]
  },
  {
   "cell_type": "code",
   "execution_count": 45,
   "id": "b21c4815-1fec-4ca2-994d-32a449f3d9ac",
   "metadata": {},
   "outputs": [
    {
     "data": {
      "text/plain": [
       "0.9383481562111187"
      ]
     },
     "execution_count": 45,
     "metadata": {},
     "output_type": "execute_result"
    }
   ],
   "source": [
    "nigh.score(X_train,y_train)"
   ]
  },
  {
   "cell_type": "code",
   "execution_count": 46,
   "id": "ba594128-7428-4cb7-8d9b-2a6125d4fb7f",
   "metadata": {},
   "outputs": [],
   "source": [
    "y_pred_nigh = nigh.predict(X_test)"
   ]
  },
  {
   "cell_type": "code",
   "execution_count": 47,
   "id": "cf42281d-563f-4dd6-91fb-ebe5d308a88a",
   "metadata": {},
   "outputs": [
    {
     "name": "stdout",
     "output_type": "stream",
     "text": [
      "R Square 0.9383822903538699\n",
      "Mean Absolute Error: 519.0455635891732\n",
      "Mean Square Error: 996236.284310901\n",
      "Root Mean Square 998.1163681209225\n"
     ]
    }
   ],
   "source": [
    "R_score= metrics.r2_score(y_test,y_pred_nigh)\n",
    "MSE = metrics.mean_squared_error(y_test,y_pred_nigh)\n",
    "MAE = metrics.mean_absolute_error(y_test,y_pred_nigh)\n",
    "RMSE= math.sqrt(metrics.mean_squared_error(y_test,y_pred_nigh))\n",
    "print('R Square',R_score)\n",
    "print('Mean Absolute Error:', MAE)\n",
    "print('Mean Square Error:', MSE)\n",
    "print('Root Mean Square',RMSE)"
   ]
  },
  {
   "cell_type": "markdown",
   "id": "f8f2e1b5-1a83-4ac5-b305-25af44924843",
   "metadata": {},
   "source": [
    "## Support Vector Regressor"
   ]
  },
  {
   "cell_type": "code",
   "execution_count": 48,
   "id": "0ac70175-2034-4f5d-9dcc-fd2dcb4426f3",
   "metadata": {},
   "outputs": [],
   "source": [
    "from sklearn import svm"
   ]
  },
  {
   "cell_type": "code",
   "execution_count": 49,
   "id": "23246d3f-bcee-43e7-82f9-1c6fad55de4d",
   "metadata": {},
   "outputs": [
    {
     "data": {
      "text/plain": [
       "SVR()"
      ]
     },
     "execution_count": 49,
     "metadata": {},
     "output_type": "execute_result"
    }
   ],
   "source": [
    "s_v_m=svm.SVR()\n",
    "s_v_m.fit(X_train,y_train)\n"
   ]
  },
  {
   "cell_type": "code",
   "execution_count": 50,
   "id": "7b84d7e1-b23b-4443-9b55-bfb8aac93081",
   "metadata": {},
   "outputs": [],
   "source": [
    "y_pred_svr=s_v_m.predict(X_test)"
   ]
  },
  {
   "cell_type": "code",
   "execution_count": 51,
   "id": "678007e2-13f3-42ce-9b1c-bd648b3a6344",
   "metadata": {},
   "outputs": [
    {
     "name": "stdout",
     "output_type": "stream",
     "text": [
      "R Square 0.5031130976519949\n",
      "Mean Absolute Error: 1369.2660022868085\n",
      "Mean Square Error: 8033676.749116555\n",
      "Root Mean Square 2834.374137109735\n"
     ]
    }
   ],
   "source": [
    "R_score= metrics.r2_score(y_test,y_pred_svr)\n",
    "MSE = metrics.mean_squared_error(y_test,y_pred_svr)\n",
    "MAE = metrics.mean_absolute_error(y_test,y_pred_svr)\n",
    "RMSE= math.sqrt(metrics.mean_squared_error(y_test,y_pred_svr))\n",
    "print('R Square',R_score)\n",
    "print('Mean Absolute Error:', MAE)\n",
    "print('Mean Square Error:', MSE)\n",
    "print('Root Mean Square',RMSE)"
   ]
  },
  {
   "cell_type": "markdown",
   "id": "835cb195-2f82-4361-802a-3aa69062668d",
   "metadata": {},
   "source": [
    "# Result"
   ]
  },
  {
   "cell_type": "code",
   "execution_count": 52,
   "id": "aea505b6-c08f-432d-9b14-c9f196e8d3ae",
   "metadata": {},
   "outputs": [],
   "source": [
    "result=pd.DataFrame()"
   ]
  },
  {
   "cell_type": "code",
   "execution_count": 53,
   "id": "54bf659b-bc25-4b25-ae0a-5867ae5cec0f",
   "metadata": {},
   "outputs": [],
   "source": [
    "result['Algorithem_name']=['Linear Regrassion','Deccission Tree regression','Random Forest Regression','KNN Reggression','Support Vector Regression']\n"
   ]
  },
  {
   "cell_type": "code",
   "execution_count": 54,
   "id": "f3721b94-5aaa-436e-ba0a-4d9574692075",
   "metadata": {},
   "outputs": [],
   "source": [
    "result['R2']=[0.88,0.96,0.97,0.93,0.52]"
   ]
  },
  {
   "cell_type": "code",
   "execution_count": 56,
   "id": "3571cba6-d9ae-480e-b8bc-8b119b929c50",
   "metadata": {},
   "outputs": [],
   "source": [
    "result['Mean Abs Error']=[855.12,413.65,366.66,509.61,1340.61]"
   ]
  },
  {
   "cell_type": "code",
   "execution_count": 57,
   "id": "7e0ee99c-1060-4de5-b6ad-6b2ed590284e",
   "metadata": {},
   "outputs": [],
   "source": [
    "result['Mean Square Error']=[1731074.69,552614.82,447402.74,952711.48,7527458.44]"
   ]
  },
  {
   "cell_type": "code",
   "execution_count": 58,
   "id": "6294d4c8-a6c4-4c89-bec4-b972f3c62bfe",
   "metadata": {},
   "outputs": [
    {
     "data": {
      "text/html": [
       "<div>\n",
       "<style scoped>\n",
       "    .dataframe tbody tr th:only-of-type {\n",
       "        vertical-align: middle;\n",
       "    }\n",
       "\n",
       "    .dataframe tbody tr th {\n",
       "        vertical-align: top;\n",
       "    }\n",
       "\n",
       "    .dataframe thead th {\n",
       "        text-align: right;\n",
       "    }\n",
       "</style>\n",
       "<table border=\"1\" class=\"dataframe\">\n",
       "  <thead>\n",
       "    <tr style=\"text-align: right;\">\n",
       "      <th></th>\n",
       "      <th>Algorithem_name</th>\n",
       "      <th>R2</th>\n",
       "      <th>MAE</th>\n",
       "      <th>Mean Abs Error</th>\n",
       "      <th>Mean Square Error</th>\n",
       "    </tr>\n",
       "  </thead>\n",
       "  <tbody>\n",
       "    <tr>\n",
       "      <th>0</th>\n",
       "      <td>Linear Regrassion</td>\n",
       "      <td>0.88</td>\n",
       "      <td>855.12</td>\n",
       "      <td>855.12</td>\n",
       "      <td>1731074.69</td>\n",
       "    </tr>\n",
       "    <tr>\n",
       "      <th>1</th>\n",
       "      <td>Deccission Tree regression</td>\n",
       "      <td>0.96</td>\n",
       "      <td>413.65</td>\n",
       "      <td>413.65</td>\n",
       "      <td>552614.82</td>\n",
       "    </tr>\n",
       "    <tr>\n",
       "      <th>2</th>\n",
       "      <td>Random Forest Regression</td>\n",
       "      <td>0.97</td>\n",
       "      <td>366.66</td>\n",
       "      <td>366.66</td>\n",
       "      <td>447402.74</td>\n",
       "    </tr>\n",
       "    <tr>\n",
       "      <th>3</th>\n",
       "      <td>KNN Reggression</td>\n",
       "      <td>0.93</td>\n",
       "      <td>509.61</td>\n",
       "      <td>509.61</td>\n",
       "      <td>952711.48</td>\n",
       "    </tr>\n",
       "    <tr>\n",
       "      <th>4</th>\n",
       "      <td>Support Vector Regression</td>\n",
       "      <td>0.52</td>\n",
       "      <td>1340.61</td>\n",
       "      <td>1340.61</td>\n",
       "      <td>7527458.44</td>\n",
       "    </tr>\n",
       "  </tbody>\n",
       "</table>\n",
       "</div>"
      ],
      "text/plain": [
       "              Algorithem_name    R2      MAE  Mean Abs Error  \\\n",
       "0           Linear Regrassion  0.88   855.12          855.12   \n",
       "1  Deccission Tree regression  0.96   413.65          413.65   \n",
       "2    Random Forest Regression  0.97   366.66          366.66   \n",
       "3             KNN Reggression  0.93   509.61          509.61   \n",
       "4   Support Vector Regression  0.52  1340.61         1340.61   \n",
       "\n",
       "   Mean Square Error  \n",
       "0         1731074.69  \n",
       "1          552614.82  \n",
       "2          447402.74  \n",
       "3          952711.48  \n",
       "4         7527458.44  "
      ]
     },
     "execution_count": 58,
     "metadata": {},
     "output_type": "execute_result"
    }
   ],
   "source": [
    "result"
   ]
  },
  {
   "cell_type": "code",
   "execution_count": null,
   "id": "79e7c173-a520-4bbb-a7ce-3955db6dfd51",
   "metadata": {},
   "outputs": [],
   "source": []
  }
 ],
 "metadata": {
  "kernelspec": {
   "display_name": "Python 3 (ipykernel)",
   "language": "python",
   "name": "python3"
  },
  "language_info": {
   "codemirror_mode": {
    "name": "ipython",
    "version": 3
   },
   "file_extension": ".py",
   "mimetype": "text/x-python",
   "name": "python",
   "nbconvert_exporter": "python",
   "pygments_lexer": "ipython3",
   "version": "3.9.12"
  }
 },
 "nbformat": 4,
 "nbformat_minor": 5
}
